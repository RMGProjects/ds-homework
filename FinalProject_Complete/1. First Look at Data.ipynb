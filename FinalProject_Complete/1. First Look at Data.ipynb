{
 "cells": [
  {
   "cell_type": "markdown",
   "metadata": {},
   "source": [
    "# ++++++++++++++++++++++++++++++\n",
    "# Prudential Life Insurance Assessment\n",
    "# ++++++++++++++++++++++++++++++\n",
    "\n",
    "## Part 1: Introduction & Data Exploration\n",
    "## ----------------------------------------------\n",
    "\n",
    "Author: <a href='mailto:rory_creedon@swissre.com'>Rory Creedon</a><br/>\n",
    "Date: August 31 2017 <br/>\n",
    "Purpose: To introduce the <a href='https://www.kaggle.com/c/prudential-life-insurance-assessment'> prudential life insurance assessment</a> data and task and to take a first look at the data."
   ]
  },
  {
   "cell_type": "markdown",
   "metadata": {},
   "source": [
    "---"
   ]
  },
  {
   "cell_type": "markdown",
   "metadata": {},
   "source": [
    "## Introduction to the Challenge"
   ]
  },
  {
   "cell_type": "markdown",
   "metadata": {},
   "source": [
    "This challenge comes from <a href=\"https://www.kaggle.com/c/prudential-life-insurance-assessment\">Kaggle</a>. The introduction to the original challenge is as follows:\n",
    "\n",
    ">In a one-click shopping world with on-demand everything, the life insurance application process is antiquated. Customers provide extensive information to identify risk classification and eligibility, including scheduling medical exams, a process that takes an average of 30 days.\n",
    "\n",
    ">The result? People are turned off. That’s why only 40% of U.S. households own individual life insurance. Prudential wants to make it quicker and less labor intensive for new and existing customers to get a quote while maintaining privacy boundaries.\n",
    "\n",
    ">By developing a predictive model that accurately classifies risk using a more automated approach, you can greatly impact public perception of the industry.\n",
    "\n",
    "The specific instructions are:\n",
    "\n",
    ">In this dataset, you are provided over a hundred variables describing attributes of life insurance applicants. The task is to predict the \"Response\" variable for each Id in the test set. \"Response\" is an ordinal measure of risk that has 8 levels.\n",
    "\n",
    "The data provided are as follows:\n",
    "\n",
    "<table class=\"tableizer-table\">\n",
    "<thead><tr class=\"tableizer-firstrow\"><th>Variable</th><th>Description</th></tr></thead><tbody>\n",
    " <tr><td>Id</td><td>A unique identifier associated with an application.</td></tr>\n",
    " <tr><td>Product_Info_1-7</td><td>A set of normalized variables relating to the product applied for</td></tr>\n",
    " <tr><td>Ins_Age</td><td>Normalized age of applicant</td></tr>\n",
    " <tr><td>Ht</td><td>Normalized height of applicant</td></tr>\n",
    " <tr><td>Wt</td><td>Normalized weight of applicant</td></tr>\n",
    " <tr><td>BMI</td><td>Normalized BMI of applicant</td></tr>\n",
    " <tr><td>Employment_Info_1-6</td><td>A set of normalized variables relating to the employment history of the applicant.</td></tr>\n",
    " <tr><td>InsuredInfo_1-6</td><td>A set of normalized variables providing information about the applicant.</td></tr>\n",
    " <tr><td>Insurance_History_1-9</td><td>A set of normalized variables relating to the insurance history of the applicant.</td></tr>\n",
    " <tr><td>Family_Hist_1-5</td><td>A set of normalized variables relating to the family history of the applicant.</td></tr>\n",
    " <tr><td>Medical_History_1-41</td><td>A set of normalized variables relating to the medical history of the applicant.</td></tr>\n",
    " <tr><td>Medical_Keyword_1-48</td><td>A set of dummy variables relating to the presence of/absence of a medical keyword being associated with the application.</td></tr>\n",
    " <tr><td>Response</td><td>This is the target variable, an ordinal variable relating to the final decision associated with an application</td></tr>\n",
    "</tbody></table>"
   ]
  },
  {
   "cell_type": "markdown",
   "metadata": {},
   "source": [
    "## Research Problem"
   ]
  },
  {
   "cell_type": "markdown",
   "metadata": {},
   "source": [
    "The problem that I would like to solve is to use a gradient boosting algorithm, specifically the <a href=\"http://docs.h2o.ai/h2o/latest-stable/h2o-docs/data-science/gbm.html\">H20</a> GBM algorithm to predict the response variable. \n",
    "\n",
    "Two datasets are provided by Kaggle, a train set with c.60,000 observations and a test set which is smaller. However, the test set does not contain response data, so I will split the train set into new test and train sets. \n",
    "\n",
    "The main model evaluation measure will be the mean per class error."
   ]
  },
  {
   "cell_type": "markdown",
   "metadata": {},
   "source": [
    "---"
   ]
  },
  {
   "cell_type": "markdown",
   "metadata": {},
   "source": [
    "## Exploring the Response and Feature Data"
   ]
  },
  {
   "cell_type": "code",
   "execution_count": 1,
   "metadata": {},
   "outputs": [
    {
     "name": "stdout",
     "output_type": "stream",
     "text": [
      "Populating the interactive namespace from numpy and matplotlib\n"
     ]
    }
   ],
   "source": [
    "#imports\n",
    "import pandas as pd\n",
    "import numpy as np\n",
    "import seaborn as sns\n",
    "import matplotlib.pyplot as plt\n",
    "%pylab inline"
   ]
  },
  {
   "cell_type": "code",
   "execution_count": 2,
   "metadata": {
    "collapsed": true
   },
   "outputs": [],
   "source": [
    "df = pd.read_csv('train.csv')"
   ]
  },
  {
   "cell_type": "code",
   "execution_count": 3,
   "metadata": {},
   "outputs": [
    {
     "data": {
      "text/plain": [
       "59381"
      ]
     },
     "execution_count": 3,
     "metadata": {},
     "output_type": "execute_result"
    }
   ],
   "source": [
    "#number of observations\n",
    "len(df)"
   ]
  },
  {
   "cell_type": "code",
   "execution_count": 4,
   "metadata": {},
   "outputs": [
    {
     "data": {
      "text/plain": [
       "128"
      ]
     },
     "execution_count": 4,
     "metadata": {},
     "output_type": "execute_result"
    }
   ],
   "source": [
    "#number of columns\n",
    "len(df.columns)"
   ]
  },
  {
   "cell_type": "code",
   "execution_count": 5,
   "metadata": {},
   "outputs": [
    {
     "data": {
      "text/html": [
       "<div>\n",
       "<table border=\"1\" class=\"dataframe\">\n",
       "  <thead>\n",
       "    <tr style=\"text-align: right;\">\n",
       "      <th></th>\n",
       "      <th>Id</th>\n",
       "      <th>Product_Info_1</th>\n",
       "      <th>Product_Info_2</th>\n",
       "      <th>Product_Info_3</th>\n",
       "      <th>Product_Info_4</th>\n",
       "      <th>Product_Info_5</th>\n",
       "      <th>Product_Info_6</th>\n",
       "      <th>Product_Info_7</th>\n",
       "      <th>Ins_Age</th>\n",
       "      <th>Ht</th>\n",
       "      <th>...</th>\n",
       "      <th>Medical_Keyword_40</th>\n",
       "      <th>Medical_Keyword_41</th>\n",
       "      <th>Medical_Keyword_42</th>\n",
       "      <th>Medical_Keyword_43</th>\n",
       "      <th>Medical_Keyword_44</th>\n",
       "      <th>Medical_Keyword_45</th>\n",
       "      <th>Medical_Keyword_46</th>\n",
       "      <th>Medical_Keyword_47</th>\n",
       "      <th>Medical_Keyword_48</th>\n",
       "      <th>Response</th>\n",
       "    </tr>\n",
       "  </thead>\n",
       "  <tbody>\n",
       "    <tr>\n",
       "      <th>0</th>\n",
       "      <td>2</td>\n",
       "      <td>1</td>\n",
       "      <td>D3</td>\n",
       "      <td>10</td>\n",
       "      <td>0.076923</td>\n",
       "      <td>2</td>\n",
       "      <td>1</td>\n",
       "      <td>1</td>\n",
       "      <td>0.641791</td>\n",
       "      <td>0.581818</td>\n",
       "      <td>...</td>\n",
       "      <td>0</td>\n",
       "      <td>0</td>\n",
       "      <td>0</td>\n",
       "      <td>0</td>\n",
       "      <td>0</td>\n",
       "      <td>0</td>\n",
       "      <td>0</td>\n",
       "      <td>0</td>\n",
       "      <td>0</td>\n",
       "      <td>8</td>\n",
       "    </tr>\n",
       "    <tr>\n",
       "      <th>1</th>\n",
       "      <td>5</td>\n",
       "      <td>1</td>\n",
       "      <td>A1</td>\n",
       "      <td>26</td>\n",
       "      <td>0.076923</td>\n",
       "      <td>2</td>\n",
       "      <td>3</td>\n",
       "      <td>1</td>\n",
       "      <td>0.059701</td>\n",
       "      <td>0.600000</td>\n",
       "      <td>...</td>\n",
       "      <td>0</td>\n",
       "      <td>0</td>\n",
       "      <td>0</td>\n",
       "      <td>0</td>\n",
       "      <td>0</td>\n",
       "      <td>0</td>\n",
       "      <td>0</td>\n",
       "      <td>0</td>\n",
       "      <td>0</td>\n",
       "      <td>4</td>\n",
       "    </tr>\n",
       "    <tr>\n",
       "      <th>2</th>\n",
       "      <td>6</td>\n",
       "      <td>1</td>\n",
       "      <td>E1</td>\n",
       "      <td>26</td>\n",
       "      <td>0.076923</td>\n",
       "      <td>2</td>\n",
       "      <td>3</td>\n",
       "      <td>1</td>\n",
       "      <td>0.029851</td>\n",
       "      <td>0.745455</td>\n",
       "      <td>...</td>\n",
       "      <td>0</td>\n",
       "      <td>0</td>\n",
       "      <td>0</td>\n",
       "      <td>0</td>\n",
       "      <td>0</td>\n",
       "      <td>0</td>\n",
       "      <td>0</td>\n",
       "      <td>0</td>\n",
       "      <td>0</td>\n",
       "      <td>8</td>\n",
       "    </tr>\n",
       "    <tr>\n",
       "      <th>3</th>\n",
       "      <td>7</td>\n",
       "      <td>1</td>\n",
       "      <td>D4</td>\n",
       "      <td>10</td>\n",
       "      <td>0.487179</td>\n",
       "      <td>2</td>\n",
       "      <td>3</td>\n",
       "      <td>1</td>\n",
       "      <td>0.164179</td>\n",
       "      <td>0.672727</td>\n",
       "      <td>...</td>\n",
       "      <td>0</td>\n",
       "      <td>0</td>\n",
       "      <td>0</td>\n",
       "      <td>0</td>\n",
       "      <td>0</td>\n",
       "      <td>0</td>\n",
       "      <td>0</td>\n",
       "      <td>0</td>\n",
       "      <td>0</td>\n",
       "      <td>8</td>\n",
       "    </tr>\n",
       "    <tr>\n",
       "      <th>4</th>\n",
       "      <td>8</td>\n",
       "      <td>1</td>\n",
       "      <td>D2</td>\n",
       "      <td>26</td>\n",
       "      <td>0.230769</td>\n",
       "      <td>2</td>\n",
       "      <td>3</td>\n",
       "      <td>1</td>\n",
       "      <td>0.417910</td>\n",
       "      <td>0.654545</td>\n",
       "      <td>...</td>\n",
       "      <td>0</td>\n",
       "      <td>0</td>\n",
       "      <td>0</td>\n",
       "      <td>0</td>\n",
       "      <td>0</td>\n",
       "      <td>0</td>\n",
       "      <td>0</td>\n",
       "      <td>0</td>\n",
       "      <td>0</td>\n",
       "      <td>8</td>\n",
       "    </tr>\n",
       "  </tbody>\n",
       "</table>\n",
       "<p>5 rows × 128 columns</p>\n",
       "</div>"
      ],
      "text/plain": [
       "   Id  Product_Info_1 Product_Info_2  Product_Info_3  Product_Info_4  \\\n",
       "0   2               1             D3              10        0.076923   \n",
       "1   5               1             A1              26        0.076923   \n",
       "2   6               1             E1              26        0.076923   \n",
       "3   7               1             D4              10        0.487179   \n",
       "4   8               1             D2              26        0.230769   \n",
       "\n",
       "   Product_Info_5  Product_Info_6  Product_Info_7   Ins_Age        Ht  \\\n",
       "0               2               1               1  0.641791  0.581818   \n",
       "1               2               3               1  0.059701  0.600000   \n",
       "2               2               3               1  0.029851  0.745455   \n",
       "3               2               3               1  0.164179  0.672727   \n",
       "4               2               3               1  0.417910  0.654545   \n",
       "\n",
       "     ...     Medical_Keyword_40  Medical_Keyword_41  Medical_Keyword_42  \\\n",
       "0    ...                      0                   0                   0   \n",
       "1    ...                      0                   0                   0   \n",
       "2    ...                      0                   0                   0   \n",
       "3    ...                      0                   0                   0   \n",
       "4    ...                      0                   0                   0   \n",
       "\n",
       "   Medical_Keyword_43  Medical_Keyword_44  Medical_Keyword_45  \\\n",
       "0                   0                   0                   0   \n",
       "1                   0                   0                   0   \n",
       "2                   0                   0                   0   \n",
       "3                   0                   0                   0   \n",
       "4                   0                   0                   0   \n",
       "\n",
       "   Medical_Keyword_46  Medical_Keyword_47  Medical_Keyword_48  Response  \n",
       "0                   0                   0                   0         8  \n",
       "1                   0                   0                   0         4  \n",
       "2                   0                   0                   0         8  \n",
       "3                   0                   0                   0         8  \n",
       "4                   0                   0                   0         8  \n",
       "\n",
       "[5 rows x 128 columns]"
      ]
     },
     "execution_count": 5,
     "metadata": {},
     "output_type": "execute_result"
    }
   ],
   "source": [
    "df.head()"
   ]
  },
  {
   "cell_type": "code",
   "execution_count": 6,
   "metadata": {},
   "outputs": [
    {
     "data": {
      "image/png": "[encoded data removed]",
      "text/plain": [
       "<matplotlib.figure.Figure at 0x814e85080>"
      ]
     },
     "metadata": {},
     "output_type": "display_data"
    }
   ],
   "source": [
    "#The response data\n",
    "sns.countplot(df['Response'], palette=\"cool\")\n",
    "plt.ylabel(\"Count\")\n",
    "plt.title(\"Count of Response Variable\")\n",
    "plt.gcf().set_size_inches(9, 6)"
   ]
  },
  {
   "cell_type": "markdown",
   "metadata": {},
   "source": [
    "There is a lot of imbalance in the response data, this may need to be considered when creating the final model. It is curious that the distribution of the response variable is like this. In general life insurers want to have the majority of their portfolio in the 'standard' risk class. They will then tolerate a number of preferred risk classes and a number of sub-standard risk classes. Therefore we would normally expect the distribution of risk classes to be more bell shaped. Possibly these data are not drawn from a single portfolio, or the data have been re-scaled."
   ]
  },
  {
   "cell_type": "code",
   "execution_count": 7,
   "metadata": {},
   "outputs": [
    {
     "data": {
      "text/html": [
       "<div>\n",
       "<table border=\"1\" class=\"dataframe\">\n",
       "  <thead>\n",
       "    <tr style=\"text-align: right;\">\n",
       "      <th></th>\n",
       "      <th>Product_Info_1</th>\n",
       "      <th>Product_Info_2</th>\n",
       "      <th>Product_Info_3</th>\n",
       "      <th>Product_Info_4</th>\n",
       "      <th>Product_Info_5</th>\n",
       "      <th>Product_Info_6</th>\n",
       "      <th>Product_Info_7</th>\n",
       "    </tr>\n",
       "  </thead>\n",
       "  <tbody>\n",
       "    <tr>\n",
       "      <th>0</th>\n",
       "      <td>1</td>\n",
       "      <td>D3</td>\n",
       "      <td>10</td>\n",
       "      <td>0.076923</td>\n",
       "      <td>2</td>\n",
       "      <td>1</td>\n",
       "      <td>1</td>\n",
       "    </tr>\n",
       "    <tr>\n",
       "      <th>1</th>\n",
       "      <td>1</td>\n",
       "      <td>A1</td>\n",
       "      <td>26</td>\n",
       "      <td>0.076923</td>\n",
       "      <td>2</td>\n",
       "      <td>3</td>\n",
       "      <td>1</td>\n",
       "    </tr>\n",
       "    <tr>\n",
       "      <th>2</th>\n",
       "      <td>1</td>\n",
       "      <td>E1</td>\n",
       "      <td>26</td>\n",
       "      <td>0.076923</td>\n",
       "      <td>2</td>\n",
       "      <td>3</td>\n",
       "      <td>1</td>\n",
       "    </tr>\n",
       "    <tr>\n",
       "      <th>3</th>\n",
       "      <td>1</td>\n",
       "      <td>D4</td>\n",
       "      <td>10</td>\n",
       "      <td>0.487179</td>\n",
       "      <td>2</td>\n",
       "      <td>3</td>\n",
       "      <td>1</td>\n",
       "    </tr>\n",
       "    <tr>\n",
       "      <th>4</th>\n",
       "      <td>1</td>\n",
       "      <td>D2</td>\n",
       "      <td>26</td>\n",
       "      <td>0.230769</td>\n",
       "      <td>2</td>\n",
       "      <td>3</td>\n",
       "      <td>1</td>\n",
       "    </tr>\n",
       "  </tbody>\n",
       "</table>\n",
       "</div>"
      ],
      "text/plain": [
       "   Product_Info_1 Product_Info_2  Product_Info_3  Product_Info_4  \\\n",
       "0               1             D3              10        0.076923   \n",
       "1               1             A1              26        0.076923   \n",
       "2               1             E1              26        0.076923   \n",
       "3               1             D4              10        0.487179   \n",
       "4               1             D2              26        0.230769   \n",
       "\n",
       "   Product_Info_5  Product_Info_6  Product_Info_7  \n",
       "0               2               1               1  \n",
       "1               2               3               1  \n",
       "2               2               3               1  \n",
       "3               2               3               1  \n",
       "4               2               3               1  "
      ]
     },
     "execution_count": 7,
     "metadata": {},
     "output_type": "execute_result"
    }
   ],
   "source": [
    "df.filter(regex='Product').head()"
   ]
  },
  {
   "cell_type": "markdown",
   "metadata": {},
   "source": [
    "There is a lot of information about the product. It seems possible that the product_Info2 is the main type of product, and the remainder are options, such as face amount, riders and other bolt ons that are typical in the insurance industry. "
   ]
  },
  {
   "cell_type": "code",
   "execution_count": 8,
   "metadata": {
    "collapsed": true
   },
   "outputs": [],
   "source": [
    "product = df['Product_Info_2'].value_counts().sort_index()"
   ]
  },
  {
   "cell_type": "code",
   "execution_count": 9,
   "metadata": {},
   "outputs": [
    {
     "data": {
      "text/plain": [
       "<matplotlib.axes._subplots.AxesSubplot at 0x814c04748>"
      ]
     },
     "execution_count": 9,
     "metadata": {},
     "output_type": "execute_result"
    },
    {
     "data": {
      "image/png": "[encoded data removed]",
      "text/plain": [
       "<matplotlib.figure.Figure at 0x814bce240>"
      ]
     },
     "metadata": {},
     "output_type": "display_data"
    }
   ],
   "source": [
    "sns.barplot(x=product.index, y = product.values, palette='cool')"
   ]
  },
  {
   "cell_type": "markdown",
   "metadata": {},
   "source": [
    "The majority of product is in the D/E category. \n",
    "\n",
    "It could be interesting to see if the response variable is more \"normally\" distributed within any of the product types. "
   ]
  },
  {
   "cell_type": "code",
   "execution_count": 10,
   "metadata": {},
   "outputs": [
    {
     "data": {
      "image/png": "[encoded data removed]",
      "text/plain": [
       "<matplotlib.figure.Figure at 0x81490dcc0>"
      ]
     },
     "metadata": {},
     "output_type": "display_data"
    }
   ],
   "source": [
    "grid = sns.FacetGrid(df, col=\"Product_Info_2\", col_wrap=4, sharey=False, \n",
    "                     sharex = True, col_order=product.index)\n",
    "plots = grid.map(sns.countplot, 'Response', color = 'c')"
   ]
  },
  {
   "cell_type": "markdown",
   "metadata": {},
   "source": [
    "The distribution of the response variable does not seem consistent across product types. One thing that might be tried is combining the character indicator of the product type i.e. A, B, C, to see if this helps to standardize the response variable distribution at all. "
   ]
  },
  {
   "cell_type": "code",
   "execution_count": 11,
   "metadata": {
    "collapsed": true
   },
   "outputs": [],
   "source": [
    "df['prodLabel'] = df['Product_Info_2'].str.slice(0,1)\n",
    "df['prodNumber'] = df['Product_Info_2'].str.slice(1,2)"
   ]
  },
  {
   "cell_type": "code",
   "execution_count": 12,
   "metadata": {},
   "outputs": [
    {
     "name": "stdout",
     "output_type": "stream",
     "text": [
      "D    37973\n",
      "A    16615\n",
      "E     2647\n",
      "B     1176\n",
      "C      970\n",
      "Name: prodLabel, dtype: int64\n",
      "\n",
      "3    15604\n",
      "1    11903\n",
      "4    11241\n",
      "2     9542\n",
      "8     6835\n",
      "6     2098\n",
      "7     1383\n",
      "5      775\n",
      "Name: prodNumber, dtype: int64\n"
     ]
    }
   ],
   "source": [
    "print(df['prodLabel'].value_counts())\n",
    "print()\n",
    "print(df['prodNumber'].value_counts())"
   ]
  },
  {
   "cell_type": "code",
   "execution_count": 13,
   "metadata": {},
   "outputs": [
    {
     "data": {
      "image/png": "[encoded data removed]",
      "text/plain": [
       "<matplotlib.figure.Figure at 0x819ee9898>"
      ]
     },
     "metadata": {},
     "output_type": "display_data"
    }
   ],
   "source": [
    "grid = sns.FacetGrid(df, col=\"prodLabel\", col_wrap=3, sharey=False, \n",
    "                     sharex = True, col_order=['A', 'B', 'C', 'D', 'E'])\n",
    "plots = grid.map(sns.countplot, 'Response', color = 'c')"
   ]
  },
  {
   "cell_type": "markdown",
   "metadata": {},
   "source": [
    "It seems that this technique does make the distibutions relatively similar especialy when looking at the product Label. This indicates that the product label and number should enter the model seperately."
   ]
  },
  {
   "cell_type": "code",
   "execution_count": 14,
   "metadata": {},
   "outputs": [
    {
     "data": {
      "text/plain": [
       "<matplotlib.axes._subplots.AxesSubplot at 0x81ada6e48>"
      ]
     },
     "execution_count": 14,
     "metadata": {},
     "output_type": "execute_result"
    },
    {
     "data": {
      "image/png": "[encoded data removed]",
      "text/plain": [
       "<matplotlib.figure.Figure at 0x814bfc358>"
      ]
     },
     "metadata": {},
     "output_type": "display_data"
    }
   ],
   "source": [
    "#distribution of age\n",
    "sns.distplot(df['Ins_Age'], color='pink')"
   ]
  },
  {
   "cell_type": "markdown",
   "metadata": {},
   "source": [
    "The distribution of age is has some strange spikes, perhaps indicating that the products were targeted at customers once they reach a certain age. Now we look to see age by response"
   ]
  },
  {
   "cell_type": "code",
   "execution_count": 15,
   "metadata": {},
   "outputs": [
    {
     "data": {
      "text/plain": [
       "<seaborn.axisgrid.FacetGrid at 0x81afc9748>"
      ]
     },
     "execution_count": 15,
     "metadata": {},
     "output_type": "execute_result"
    },
    {
     "data": {
      "image/png": "[encoded data removed]",
      "text/plain": [
       "<matplotlib.figure.Figure at 0x81afc9208>"
      ]
     },
     "metadata": {},
     "output_type": "display_data"
    }
   ],
   "source": [
    "ageFacet = sns.FacetGrid(df, col=\"Response\", col_wrap=4)\n",
    "ageFacet.map(sns.distplot, 'Ins_Age', color='pink')"
   ]
  },
  {
   "cell_type": "code",
   "execution_count": 16,
   "metadata": {},
   "outputs": [
    {
     "data": {
      "text/plain": [
       "Response\n",
       "1    0.492908\n",
       "2    0.460992\n",
       "3    0.359476\n",
       "4    0.337033\n",
       "5    0.404595\n",
       "6    0.426265\n",
       "7    0.434459\n",
       "8    0.342974\n",
       "Name: Ins_Age, dtype: float64"
      ]
     },
     "execution_count": 16,
     "metadata": {},
     "output_type": "execute_result"
    }
   ],
   "source": [
    "#mean value of age for each value of response\n",
    "df.groupby('Response').agg('mean')[\"Ins_Age\"]"
   ]
  },
  {
   "cell_type": "markdown",
   "metadata": {},
   "source": [
    "We would normally expect distribution of age to vary by risk class, but in this case, the data do not appear to be moving in an intuitive way. "
   ]
  },
  {
   "cell_type": "code",
   "execution_count": 17,
   "metadata": {},
   "outputs": [
    {
     "data": {
      "image/png": "[encoded data removed]",
      "text/plain": [
       "<matplotlib.figure.Figure at 0x819fa8668>"
      ]
     },
     "metadata": {},
     "output_type": "display_data"
    }
   ],
   "source": [
    "sns.distplot(df['Wt'], color='pink', label = 'weight')\n",
    "sns.distplot(df['Ht'], color='c', label = 'height')\n",
    "sns.distplot(df['BMI'], color='b', label = 'BMI')\n",
    "plt.legend()\n",
    "plt.gcf().set_size_inches(8, 5)"
   ]
  },
  {
   "cell_type": "code",
   "execution_count": 18,
   "metadata": {},
   "outputs": [
    {
     "data": {
      "text/html": [
       "<div>\n",
       "<table border=\"1\" class=\"dataframe\">\n",
       "  <thead>\n",
       "    <tr style=\"text-align: right;\">\n",
       "      <th></th>\n",
       "      <th>Employment_Info_1</th>\n",
       "      <th>Employment_Info_2</th>\n",
       "      <th>Employment_Info_3</th>\n",
       "      <th>Employment_Info_4</th>\n",
       "      <th>Employment_Info_5</th>\n",
       "      <th>Employment_Info_6</th>\n",
       "    </tr>\n",
       "  </thead>\n",
       "  <tbody>\n",
       "    <tr>\n",
       "      <th>0</th>\n",
       "      <td>0.028</td>\n",
       "      <td>12</td>\n",
       "      <td>1</td>\n",
       "      <td>0.0</td>\n",
       "      <td>3</td>\n",
       "      <td>NaN</td>\n",
       "    </tr>\n",
       "    <tr>\n",
       "      <th>1</th>\n",
       "      <td>0.000</td>\n",
       "      <td>1</td>\n",
       "      <td>3</td>\n",
       "      <td>0.0</td>\n",
       "      <td>2</td>\n",
       "      <td>0.0018</td>\n",
       "    </tr>\n",
       "    <tr>\n",
       "      <th>2</th>\n",
       "      <td>0.030</td>\n",
       "      <td>9</td>\n",
       "      <td>1</td>\n",
       "      <td>0.0</td>\n",
       "      <td>2</td>\n",
       "      <td>0.0300</td>\n",
       "    </tr>\n",
       "    <tr>\n",
       "      <th>3</th>\n",
       "      <td>0.042</td>\n",
       "      <td>9</td>\n",
       "      <td>1</td>\n",
       "      <td>0.0</td>\n",
       "      <td>3</td>\n",
       "      <td>0.2000</td>\n",
       "    </tr>\n",
       "    <tr>\n",
       "      <th>4</th>\n",
       "      <td>0.027</td>\n",
       "      <td>9</td>\n",
       "      <td>1</td>\n",
       "      <td>0.0</td>\n",
       "      <td>2</td>\n",
       "      <td>0.0500</td>\n",
       "    </tr>\n",
       "  </tbody>\n",
       "</table>\n",
       "</div>"
      ],
      "text/plain": [
       "   Employment_Info_1  Employment_Info_2  Employment_Info_3  Employment_Info_4  \\\n",
       "0              0.028                 12                  1                0.0   \n",
       "1              0.000                  1                  3                0.0   \n",
       "2              0.030                  9                  1                0.0   \n",
       "3              0.042                  9                  1                0.0   \n",
       "4              0.027                  9                  1                0.0   \n",
       "\n",
       "   Employment_Info_5  Employment_Info_6  \n",
       "0                  3                NaN  \n",
       "1                  2             0.0018  \n",
       "2                  2             0.0300  \n",
       "3                  3             0.2000  \n",
       "4                  2             0.0500  "
      ]
     },
     "execution_count": 18,
     "metadata": {},
     "output_type": "execute_result"
    }
   ],
   "source": [
    "#A look at employment info\n",
    "df.filter(regex='Emplo').head()"
   ]
  },
  {
   "cell_type": "code",
   "execution_count": 19,
   "metadata": {},
   "outputs": [
    {
     "data": {
      "text/plain": [
       "0.00    3688\n",
       "0.05    3513\n",
       "0.10    3006\n",
       "0.06    2720\n",
       "0.04    2395\n",
       "Name: Employment_Info_1, dtype: int64"
      ]
     },
     "execution_count": 19,
     "metadata": {},
     "output_type": "execute_result"
    }
   ],
   "source": [
    "df['Employment_Info_1'].value_counts().iloc[0:5]"
   ]
  },
  {
   "cell_type": "code",
   "execution_count": 20,
   "metadata": {},
   "outputs": [
    {
     "data": {
      "text/plain": [
       "9     34573\n",
       "1      8934\n",
       "12     7714\n",
       "14     4819\n",
       "3      1724\n",
       "15      480\n",
       "11      456\n",
       "32      199\n",
       "10      175\n",
       "36       63\n",
       "Name: Employment_Info_2, dtype: int64"
      ]
     },
     "execution_count": 20,
     "metadata": {},
     "output_type": "execute_result"
    }
   ],
   "source": [
    "df['Employment_Info_2'].value_counts().iloc[0:10]"
   ]
  },
  {
   "cell_type": "code",
   "execution_count": 21,
   "metadata": {},
   "outputs": [
    {
     "data": {
      "text/plain": [
       "1    50447\n",
       "3     8934\n",
       "Name: Employment_Info_3, dtype: int64"
      ]
     },
     "execution_count": 21,
     "metadata": {},
     "output_type": "execute_result"
    }
   ],
   "source": [
    "df['Employment_Info_3'].value_counts(dropna=False)"
   ]
  },
  {
   "cell_type": "code",
   "execution_count": 22,
   "metadata": {},
   "outputs": [
    {
     "data": {
      "text/plain": [
       " 0.000    44659\n",
       "NaN        6779\n",
       " 0.010      418\n",
       " 0.020      345\n",
       " 0.050      338\n",
       " 0.030      320\n",
       " 0.005      308\n",
       " 0.001      277\n",
       " 0.025      228\n",
       " 0.015      219\n",
       "Name: Employment_Info_4, dtype: int64"
      ]
     },
     "execution_count": 22,
     "metadata": {},
     "output_type": "execute_result"
    }
   ],
   "source": [
    "df['Employment_Info_4'].value_counts(dropna=False).iloc[0:10]"
   ]
  },
  {
   "cell_type": "code",
   "execution_count": 23,
   "metadata": {},
   "outputs": [
    {
     "data": {
      "text/plain": [
       "2    50892\n",
       "3     8489\n",
       "Name: Employment_Info_5, dtype: int64"
      ]
     },
     "execution_count": 23,
     "metadata": {},
     "output_type": "execute_result"
    }
   ],
   "source": [
    "df['Employment_Info_5'].value_counts(dropna=False)"
   ]
  },
  {
   "cell_type": "code",
   "execution_count": 24,
   "metadata": {},
   "outputs": [
    {
     "data": {
      "text/plain": [
       "NaN      10854\n",
       " 1.00     7654\n",
       " 0.00     4042\n",
       " 0.50     3828\n",
       " 0.10     3056\n",
       " 0.20     2702\n",
       " 0.25     2409\n",
       " 0.30     2223\n",
       " 0.05     1943\n",
       " 0.15     1639\n",
       "Name: Employment_Info_6, dtype: int64"
      ]
     },
     "execution_count": 24,
     "metadata": {},
     "output_type": "execute_result"
    }
   ],
   "source": [
    "df['Employment_Info_6'].value_counts(dropna=False).iloc[0:10]"
   ]
  },
  {
   "cell_type": "markdown",
   "metadata": {},
   "source": [
    "Its not terribly clear what the employment features indicate. However, there are two essentially dichotomos variables, that I will include as factors. There is no engineering to be done here. "
   ]
  },
  {
   "cell_type": "code",
   "execution_count": 25,
   "metadata": {},
   "outputs": [
    {
     "data": {
      "text/html": [
       "<div>\n",
       "<table border=\"1\" class=\"dataframe\">\n",
       "  <thead>\n",
       "    <tr style=\"text-align: right;\">\n",
       "      <th></th>\n",
       "      <th>InsuredInfo_1</th>\n",
       "      <th>InsuredInfo_2</th>\n",
       "      <th>InsuredInfo_3</th>\n",
       "      <th>InsuredInfo_4</th>\n",
       "      <th>InsuredInfo_5</th>\n",
       "      <th>InsuredInfo_6</th>\n",
       "      <th>InsuredInfo_7</th>\n",
       "    </tr>\n",
       "  </thead>\n",
       "  <tbody>\n",
       "    <tr>\n",
       "      <th>0</th>\n",
       "      <td>1</td>\n",
       "      <td>2</td>\n",
       "      <td>6</td>\n",
       "      <td>3</td>\n",
       "      <td>1</td>\n",
       "      <td>2</td>\n",
       "      <td>1</td>\n",
       "    </tr>\n",
       "    <tr>\n",
       "      <th>1</th>\n",
       "      <td>1</td>\n",
       "      <td>2</td>\n",
       "      <td>6</td>\n",
       "      <td>3</td>\n",
       "      <td>1</td>\n",
       "      <td>2</td>\n",
       "      <td>1</td>\n",
       "    </tr>\n",
       "    <tr>\n",
       "      <th>2</th>\n",
       "      <td>1</td>\n",
       "      <td>2</td>\n",
       "      <td>8</td>\n",
       "      <td>3</td>\n",
       "      <td>1</td>\n",
       "      <td>1</td>\n",
       "      <td>1</td>\n",
       "    </tr>\n",
       "    <tr>\n",
       "      <th>3</th>\n",
       "      <td>2</td>\n",
       "      <td>2</td>\n",
       "      <td>8</td>\n",
       "      <td>3</td>\n",
       "      <td>1</td>\n",
       "      <td>2</td>\n",
       "      <td>1</td>\n",
       "    </tr>\n",
       "    <tr>\n",
       "      <th>4</th>\n",
       "      <td>1</td>\n",
       "      <td>2</td>\n",
       "      <td>6</td>\n",
       "      <td>3</td>\n",
       "      <td>1</td>\n",
       "      <td>2</td>\n",
       "      <td>1</td>\n",
       "    </tr>\n",
       "  </tbody>\n",
       "</table>\n",
       "</div>"
      ],
      "text/plain": [
       "   InsuredInfo_1  InsuredInfo_2  InsuredInfo_3  InsuredInfo_4  InsuredInfo_5  \\\n",
       "0              1              2              6              3              1   \n",
       "1              1              2              6              3              1   \n",
       "2              1              2              8              3              1   \n",
       "3              2              2              8              3              1   \n",
       "4              1              2              6              3              1   \n",
       "\n",
       "   InsuredInfo_6  InsuredInfo_7  \n",
       "0              2              1  \n",
       "1              2              1  \n",
       "2              1              1  \n",
       "3              2              1  \n",
       "4              2              1  "
      ]
     },
     "execution_count": 25,
     "metadata": {},
     "output_type": "execute_result"
    }
   ],
   "source": [
    "#A look at insured\n",
    "df.filter(regex='Insured').head()"
   ]
  },
  {
   "cell_type": "code",
   "execution_count": 26,
   "metadata": {
    "collapsed": true
   },
   "outputs": [],
   "source": [
    "ins = ['InsuredInfo_1', 'InsuredInfo_2', 'InsuredInfo_3', 'InsuredInfo_4',\n",
    "       'InsuredInfo_5', 'InsuredInfo_6', 'InsuredInfo_7']"
   ]
  },
  {
   "cell_type": "code",
   "execution_count": 27,
   "metadata": {},
   "outputs": [
    {
     "name": "stdout",
     "output_type": "stream",
     "text": [
      "InsuredInfo_1\n",
      "1    47223\n",
      "2    11886\n",
      "3      272\n",
      "Name: InsuredInfo_1, dtype: int64\n",
      "\n",
      "InsuredInfo_2\n",
      "2    58940\n",
      "3      441\n",
      "Name: InsuredInfo_2, dtype: int64\n",
      "\n",
      "InsuredInfo_3\n",
      "8     18736\n",
      "3     16522\n",
      "6     12820\n",
      "11     4141\n",
      "2      3828\n",
      "4      1058\n",
      "1       829\n",
      "10      761\n",
      "7       398\n",
      "5       273\n",
      "9        15\n",
      "Name: InsuredInfo_3, dtype: int64\n",
      "\n",
      "InsuredInfo_4\n",
      "3    52473\n",
      "2     6908\n",
      "Name: InsuredInfo_4, dtype: int64\n",
      "\n",
      "InsuredInfo_5\n",
      "1    58574\n",
      "3      807\n",
      "Name: InsuredInfo_5, dtype: int64\n",
      "\n",
      "InsuredInfo_6\n",
      "1    35083\n",
      "2    24298\n",
      "Name: InsuredInfo_6, dtype: int64\n",
      "\n",
      "InsuredInfo_7\n",
      "1    58237\n",
      "3     1144\n",
      "Name: InsuredInfo_7, dtype: int64\n",
      "\n"
     ]
    }
   ],
   "source": [
    "for col in ins:\n",
    "    print(col)\n",
    "    print(df[col].value_counts())\n",
    "    print()"
   ]
  },
  {
   "cell_type": "markdown",
   "metadata": {},
   "source": [
    "Again, its hard to know what these data are. They can all be included as factors. No engineering possible"
   ]
  },
  {
   "cell_type": "code",
   "execution_count": 28,
   "metadata": {},
   "outputs": [
    {
     "data": {
      "text/html": [
       "<div>\n",
       "<table border=\"1\" class=\"dataframe\">\n",
       "  <thead>\n",
       "    <tr style=\"text-align: right;\">\n",
       "      <th></th>\n",
       "      <th>Family_Hist_1</th>\n",
       "      <th>Family_Hist_2</th>\n",
       "      <th>Family_Hist_3</th>\n",
       "      <th>Family_Hist_4</th>\n",
       "      <th>Family_Hist_5</th>\n",
       "    </tr>\n",
       "  </thead>\n",
       "  <tbody>\n",
       "    <tr>\n",
       "      <th>0</th>\n",
       "      <td>2</td>\n",
       "      <td>NaN</td>\n",
       "      <td>0.598039</td>\n",
       "      <td>NaN</td>\n",
       "      <td>0.526786</td>\n",
       "    </tr>\n",
       "    <tr>\n",
       "      <th>1</th>\n",
       "      <td>2</td>\n",
       "      <td>0.188406</td>\n",
       "      <td>NaN</td>\n",
       "      <td>0.084507</td>\n",
       "      <td>NaN</td>\n",
       "    </tr>\n",
       "    <tr>\n",
       "      <th>2</th>\n",
       "      <td>3</td>\n",
       "      <td>0.304348</td>\n",
       "      <td>NaN</td>\n",
       "      <td>0.225352</td>\n",
       "      <td>NaN</td>\n",
       "    </tr>\n",
       "    <tr>\n",
       "      <th>3</th>\n",
       "      <td>3</td>\n",
       "      <td>0.420290</td>\n",
       "      <td>NaN</td>\n",
       "      <td>0.352113</td>\n",
       "      <td>NaN</td>\n",
       "    </tr>\n",
       "    <tr>\n",
       "      <th>4</th>\n",
       "      <td>2</td>\n",
       "      <td>0.463768</td>\n",
       "      <td>NaN</td>\n",
       "      <td>0.408451</td>\n",
       "      <td>NaN</td>\n",
       "    </tr>\n",
       "  </tbody>\n",
       "</table>\n",
       "</div>"
      ],
      "text/plain": [
       "   Family_Hist_1  Family_Hist_2  Family_Hist_3  Family_Hist_4  Family_Hist_5\n",
       "0              2            NaN       0.598039            NaN       0.526786\n",
       "1              2       0.188406            NaN       0.084507            NaN\n",
       "2              3       0.304348            NaN       0.225352            NaN\n",
       "3              3       0.420290            NaN       0.352113            NaN\n",
       "4              2       0.463768            NaN       0.408451            NaN"
      ]
     },
     "execution_count": 28,
     "metadata": {},
     "output_type": "execute_result"
    }
   ],
   "source": [
    "#A look at famly history\n",
    "df.filter(regex='Family').head()"
   ]
  },
  {
   "cell_type": "code",
   "execution_count": 29,
   "metadata": {},
   "outputs": [
    {
     "name": "stdout",
     "output_type": "stream",
     "text": [
      "Family_Hist_1\n",
      "3    41287\n",
      "2    17556\n",
      "1      538\n",
      "Name: Family_Hist_1, dtype: int64\n",
      "\n",
      "Family_Hist_2\n",
      "0.434783    1331\n",
      "0.420290    1199\n",
      "0.463768    1188\n",
      "0.405797    1157\n",
      "0.391304    1118\n",
      "0.362319    1073\n",
      "0.507246    1016\n",
      "0.449275     984\n",
      "0.536232     981\n",
      "0.478261     974\n",
      "Name: Family_Hist_2, dtype: int64\n",
      "\n",
      "Family_Hist_3\n",
      "0.519608    1015\n",
      "0.578431     853\n",
      "0.549020     808\n",
      "0.558824     741\n",
      "0.617647     732\n",
      "0.450980     715\n",
      "0.539216     707\n",
      "0.598039     703\n",
      "0.637255     682\n",
      "0.500000     681\n",
      "Name: Family_Hist_3, dtype: int64\n",
      "\n",
      "Family_Hist_4\n",
      "0.408451    1621\n",
      "0.366197    1381\n",
      "0.338028    1379\n",
      "0.394366    1348\n",
      "0.380282    1300\n",
      "0.323944    1273\n",
      "0.436620    1249\n",
      "0.309859    1211\n",
      "0.507042    1200\n",
      "0.450704    1171\n",
      "Name: Family_Hist_4, dtype: int64\n",
      "\n",
      "Family_Hist_5\n",
      "0.535714    615\n",
      "0.482143    602\n",
      "0.589286    592\n",
      "0.580357    582\n",
      "0.571429    580\n",
      "0.607143    532\n",
      "0.544643    518\n",
      "0.598214    513\n",
      "0.508929    500\n",
      "0.553571    498\n",
      "Name: Family_Hist_5, dtype: int64\n",
      "\n"
     ]
    }
   ],
   "source": [
    "for col in df.filter(regex='Family').columns:\n",
    "    print(col)\n",
    "    print(df[col].value_counts().iloc[:10])\n",
    "    print()"
   ]
  },
  {
   "cell_type": "markdown",
   "metadata": {},
   "source": [
    "Similar story as above"
   ]
  },
  {
   "cell_type": "code",
   "execution_count": 30,
   "metadata": {},
   "outputs": [
    {
     "data": {
      "text/html": [
       "<div>\n",
       "<table border=\"1\" class=\"dataframe\">\n",
       "  <thead>\n",
       "    <tr style=\"text-align: right;\">\n",
       "      <th></th>\n",
       "      <th>Medical_History_1</th>\n",
       "      <th>Medical_History_2</th>\n",
       "      <th>Medical_History_3</th>\n",
       "      <th>Medical_History_4</th>\n",
       "      <th>Medical_History_5</th>\n",
       "      <th>Medical_History_6</th>\n",
       "      <th>Medical_History_7</th>\n",
       "      <th>Medical_History_8</th>\n",
       "      <th>Medical_History_9</th>\n",
       "      <th>Medical_History_10</th>\n",
       "      <th>...</th>\n",
       "      <th>Medical_History_32</th>\n",
       "      <th>Medical_History_33</th>\n",
       "      <th>Medical_History_34</th>\n",
       "      <th>Medical_History_35</th>\n",
       "      <th>Medical_History_36</th>\n",
       "      <th>Medical_History_37</th>\n",
       "      <th>Medical_History_38</th>\n",
       "      <th>Medical_History_39</th>\n",
       "      <th>Medical_History_40</th>\n",
       "      <th>Medical_History_41</th>\n",
       "    </tr>\n",
       "  </thead>\n",
       "  <tbody>\n",
       "    <tr>\n",
       "      <th>0</th>\n",
       "      <td>4.0</td>\n",
       "      <td>112</td>\n",
       "      <td>2</td>\n",
       "      <td>1</td>\n",
       "      <td>1</td>\n",
       "      <td>3</td>\n",
       "      <td>2</td>\n",
       "      <td>2</td>\n",
       "      <td>1</td>\n",
       "      <td>NaN</td>\n",
       "      <td>...</td>\n",
       "      <td>NaN</td>\n",
       "      <td>1</td>\n",
       "      <td>3</td>\n",
       "      <td>1</td>\n",
       "      <td>2</td>\n",
       "      <td>2</td>\n",
       "      <td>1</td>\n",
       "      <td>3</td>\n",
       "      <td>3</td>\n",
       "      <td>3</td>\n",
       "    </tr>\n",
       "    <tr>\n",
       "      <th>1</th>\n",
       "      <td>5.0</td>\n",
       "      <td>412</td>\n",
       "      <td>2</td>\n",
       "      <td>1</td>\n",
       "      <td>1</td>\n",
       "      <td>3</td>\n",
       "      <td>2</td>\n",
       "      <td>2</td>\n",
       "      <td>1</td>\n",
       "      <td>NaN</td>\n",
       "      <td>...</td>\n",
       "      <td>NaN</td>\n",
       "      <td>3</td>\n",
       "      <td>1</td>\n",
       "      <td>1</td>\n",
       "      <td>2</td>\n",
       "      <td>2</td>\n",
       "      <td>1</td>\n",
       "      <td>3</td>\n",
       "      <td>3</td>\n",
       "      <td>1</td>\n",
       "    </tr>\n",
       "    <tr>\n",
       "      <th>2</th>\n",
       "      <td>10.0</td>\n",
       "      <td>3</td>\n",
       "      <td>2</td>\n",
       "      <td>2</td>\n",
       "      <td>1</td>\n",
       "      <td>3</td>\n",
       "      <td>2</td>\n",
       "      <td>2</td>\n",
       "      <td>2</td>\n",
       "      <td>NaN</td>\n",
       "      <td>...</td>\n",
       "      <td>NaN</td>\n",
       "      <td>3</td>\n",
       "      <td>3</td>\n",
       "      <td>1</td>\n",
       "      <td>3</td>\n",
       "      <td>2</td>\n",
       "      <td>1</td>\n",
       "      <td>3</td>\n",
       "      <td>3</td>\n",
       "      <td>1</td>\n",
       "    </tr>\n",
       "    <tr>\n",
       "      <th>3</th>\n",
       "      <td>0.0</td>\n",
       "      <td>350</td>\n",
       "      <td>2</td>\n",
       "      <td>2</td>\n",
       "      <td>1</td>\n",
       "      <td>3</td>\n",
       "      <td>2</td>\n",
       "      <td>2</td>\n",
       "      <td>2</td>\n",
       "      <td>NaN</td>\n",
       "      <td>...</td>\n",
       "      <td>NaN</td>\n",
       "      <td>3</td>\n",
       "      <td>3</td>\n",
       "      <td>1</td>\n",
       "      <td>2</td>\n",
       "      <td>2</td>\n",
       "      <td>1</td>\n",
       "      <td>3</td>\n",
       "      <td>3</td>\n",
       "      <td>1</td>\n",
       "    </tr>\n",
       "    <tr>\n",
       "      <th>4</th>\n",
       "      <td>NaN</td>\n",
       "      <td>162</td>\n",
       "      <td>2</td>\n",
       "      <td>2</td>\n",
       "      <td>1</td>\n",
       "      <td>3</td>\n",
       "      <td>2</td>\n",
       "      <td>2</td>\n",
       "      <td>2</td>\n",
       "      <td>NaN</td>\n",
       "      <td>...</td>\n",
       "      <td>NaN</td>\n",
       "      <td>3</td>\n",
       "      <td>3</td>\n",
       "      <td>1</td>\n",
       "      <td>3</td>\n",
       "      <td>2</td>\n",
       "      <td>1</td>\n",
       "      <td>3</td>\n",
       "      <td>3</td>\n",
       "      <td>1</td>\n",
       "    </tr>\n",
       "  </tbody>\n",
       "</table>\n",
       "<p>5 rows × 41 columns</p>\n",
       "</div>"
      ],
      "text/plain": [
       "   Medical_History_1  Medical_History_2  Medical_History_3  Medical_History_4  \\\n",
       "0                4.0                112                  2                  1   \n",
       "1                5.0                412                  2                  1   \n",
       "2               10.0                  3                  2                  2   \n",
       "3                0.0                350                  2                  2   \n",
       "4                NaN                162                  2                  2   \n",
       "\n",
       "   Medical_History_5  Medical_History_6  Medical_History_7  Medical_History_8  \\\n",
       "0                  1                  3                  2                  2   \n",
       "1                  1                  3                  2                  2   \n",
       "2                  1                  3                  2                  2   \n",
       "3                  1                  3                  2                  2   \n",
       "4                  1                  3                  2                  2   \n",
       "\n",
       "   Medical_History_9  Medical_History_10         ...          \\\n",
       "0                  1                 NaN         ...           \n",
       "1                  1                 NaN         ...           \n",
       "2                  2                 NaN         ...           \n",
       "3                  2                 NaN         ...           \n",
       "4                  2                 NaN         ...           \n",
       "\n",
       "   Medical_History_32  Medical_History_33  Medical_History_34  \\\n",
       "0                 NaN                   1                   3   \n",
       "1                 NaN                   3                   1   \n",
       "2                 NaN                   3                   3   \n",
       "3                 NaN                   3                   3   \n",
       "4                 NaN                   3                   3   \n",
       "\n",
       "   Medical_History_35  Medical_History_36  Medical_History_37  \\\n",
       "0                   1                   2                   2   \n",
       "1                   1                   2                   2   \n",
       "2                   1                   3                   2   \n",
       "3                   1                   2                   2   \n",
       "4                   1                   3                   2   \n",
       "\n",
       "   Medical_History_38  Medical_History_39  Medical_History_40  \\\n",
       "0                   1                   3                   3   \n",
       "1                   1                   3                   3   \n",
       "2                   1                   3                   3   \n",
       "3                   1                   3                   3   \n",
       "4                   1                   3                   3   \n",
       "\n",
       "   Medical_History_41  \n",
       "0                   3  \n",
       "1                   1  \n",
       "2                   1  \n",
       "3                   1  \n",
       "4                   1  \n",
       "\n",
       "[5 rows x 41 columns]"
      ]
     },
     "execution_count": 30,
     "metadata": {},
     "output_type": "execute_result"
    }
   ],
   "source": [
    "#A look at medical history\n",
    "df.filter(regex='Medical_History').head()"
   ]
  },
  {
   "cell_type": "markdown",
   "metadata": {},
   "source": [
    "One thing we might try is to see if there are any dichotomous values that can be summed across columns. "
   ]
  },
  {
   "cell_type": "code",
   "execution_count": 31,
   "metadata": {},
   "outputs": [
    {
     "data": {
      "text/plain": [
       "'Medical_History_41'"
      ]
     },
     "execution_count": 31,
     "metadata": {},
     "output_type": "execute_result"
    }
   ],
   "source": [
    "dic = []\n",
    "for col in df.filter(regex='Medical_History').columns:\n",
    "    if len(df[col].value_counts()) == 2:\n",
    "        dic.append(col)\n",
    "col"
   ]
  },
  {
   "cell_type": "code",
   "execution_count": 32,
   "metadata": {},
   "outputs": [
    {
     "data": {
      "text/html": [
       "<div>\n",
       "<table border=\"1\" class=\"dataframe\">\n",
       "  <thead>\n",
       "    <tr style=\"text-align: right;\">\n",
       "      <th></th>\n",
       "      <th>Medical_History_1</th>\n",
       "      <th>Medical_History_2</th>\n",
       "      <th>Medical_History_3</th>\n",
       "      <th>Medical_History_4</th>\n",
       "      <th>Medical_History_5</th>\n",
       "      <th>Medical_History_6</th>\n",
       "      <th>Medical_History_7</th>\n",
       "      <th>Medical_History_8</th>\n",
       "      <th>Medical_History_9</th>\n",
       "      <th>Medical_History_10</th>\n",
       "      <th>...</th>\n",
       "      <th>Medical_History_32</th>\n",
       "      <th>Medical_History_33</th>\n",
       "      <th>Medical_History_34</th>\n",
       "      <th>Medical_History_35</th>\n",
       "      <th>Medical_History_36</th>\n",
       "      <th>Medical_History_37</th>\n",
       "      <th>Medical_History_38</th>\n",
       "      <th>Medical_History_39</th>\n",
       "      <th>Medical_History_40</th>\n",
       "      <th>Medical_History_41</th>\n",
       "    </tr>\n",
       "  </thead>\n",
       "  <tbody>\n",
       "    <tr>\n",
       "      <th>0</th>\n",
       "      <td>4.0</td>\n",
       "      <td>112</td>\n",
       "      <td>2</td>\n",
       "      <td>1</td>\n",
       "      <td>1</td>\n",
       "      <td>3</td>\n",
       "      <td>2</td>\n",
       "      <td>2</td>\n",
       "      <td>1</td>\n",
       "      <td>NaN</td>\n",
       "      <td>...</td>\n",
       "      <td>NaN</td>\n",
       "      <td>1</td>\n",
       "      <td>3</td>\n",
       "      <td>1</td>\n",
       "      <td>2</td>\n",
       "      <td>2</td>\n",
       "      <td>1</td>\n",
       "      <td>3</td>\n",
       "      <td>3</td>\n",
       "      <td>3</td>\n",
       "    </tr>\n",
       "    <tr>\n",
       "      <th>1</th>\n",
       "      <td>5.0</td>\n",
       "      <td>412</td>\n",
       "      <td>2</td>\n",
       "      <td>1</td>\n",
       "      <td>1</td>\n",
       "      <td>3</td>\n",
       "      <td>2</td>\n",
       "      <td>2</td>\n",
       "      <td>1</td>\n",
       "      <td>NaN</td>\n",
       "      <td>...</td>\n",
       "      <td>NaN</td>\n",
       "      <td>3</td>\n",
       "      <td>1</td>\n",
       "      <td>1</td>\n",
       "      <td>2</td>\n",
       "      <td>2</td>\n",
       "      <td>1</td>\n",
       "      <td>3</td>\n",
       "      <td>3</td>\n",
       "      <td>1</td>\n",
       "    </tr>\n",
       "    <tr>\n",
       "      <th>2</th>\n",
       "      <td>10.0</td>\n",
       "      <td>3</td>\n",
       "      <td>2</td>\n",
       "      <td>2</td>\n",
       "      <td>1</td>\n",
       "      <td>3</td>\n",
       "      <td>2</td>\n",
       "      <td>2</td>\n",
       "      <td>2</td>\n",
       "      <td>NaN</td>\n",
       "      <td>...</td>\n",
       "      <td>NaN</td>\n",
       "      <td>3</td>\n",
       "      <td>3</td>\n",
       "      <td>1</td>\n",
       "      <td>3</td>\n",
       "      <td>2</td>\n",
       "      <td>1</td>\n",
       "      <td>3</td>\n",
       "      <td>3</td>\n",
       "      <td>1</td>\n",
       "    </tr>\n",
       "    <tr>\n",
       "      <th>3</th>\n",
       "      <td>0.0</td>\n",
       "      <td>350</td>\n",
       "      <td>2</td>\n",
       "      <td>2</td>\n",
       "      <td>1</td>\n",
       "      <td>3</td>\n",
       "      <td>2</td>\n",
       "      <td>2</td>\n",
       "      <td>2</td>\n",
       "      <td>NaN</td>\n",
       "      <td>...</td>\n",
       "      <td>NaN</td>\n",
       "      <td>3</td>\n",
       "      <td>3</td>\n",
       "      <td>1</td>\n",
       "      <td>2</td>\n",
       "      <td>2</td>\n",
       "      <td>1</td>\n",
       "      <td>3</td>\n",
       "      <td>3</td>\n",
       "      <td>1</td>\n",
       "    </tr>\n",
       "    <tr>\n",
       "      <th>4</th>\n",
       "      <td>NaN</td>\n",
       "      <td>162</td>\n",
       "      <td>2</td>\n",
       "      <td>2</td>\n",
       "      <td>1</td>\n",
       "      <td>3</td>\n",
       "      <td>2</td>\n",
       "      <td>2</td>\n",
       "      <td>2</td>\n",
       "      <td>NaN</td>\n",
       "      <td>...</td>\n",
       "      <td>NaN</td>\n",
       "      <td>3</td>\n",
       "      <td>3</td>\n",
       "      <td>1</td>\n",
       "      <td>3</td>\n",
       "      <td>2</td>\n",
       "      <td>1</td>\n",
       "      <td>3</td>\n",
       "      <td>3</td>\n",
       "      <td>1</td>\n",
       "    </tr>\n",
       "  </tbody>\n",
       "</table>\n",
       "<p>5 rows × 41 columns</p>\n",
       "</div>"
      ],
      "text/plain": [
       "   Medical_History_1  Medical_History_2  Medical_History_3  Medical_History_4  \\\n",
       "0                4.0                112                  2                  1   \n",
       "1                5.0                412                  2                  1   \n",
       "2               10.0                  3                  2                  2   \n",
       "3                0.0                350                  2                  2   \n",
       "4                NaN                162                  2                  2   \n",
       "\n",
       "   Medical_History_5  Medical_History_6  Medical_History_7  Medical_History_8  \\\n",
       "0                  1                  3                  2                  2   \n",
       "1                  1                  3                  2                  2   \n",
       "2                  1                  3                  2                  2   \n",
       "3                  1                  3                  2                  2   \n",
       "4                  1                  3                  2                  2   \n",
       "\n",
       "   Medical_History_9  Medical_History_10         ...          \\\n",
       "0                  1                 NaN         ...           \n",
       "1                  1                 NaN         ...           \n",
       "2                  2                 NaN         ...           \n",
       "3                  2                 NaN         ...           \n",
       "4                  2                 NaN         ...           \n",
       "\n",
       "   Medical_History_32  Medical_History_33  Medical_History_34  \\\n",
       "0                 NaN                   1                   3   \n",
       "1                 NaN                   3                   1   \n",
       "2                 NaN                   3                   3   \n",
       "3                 NaN                   3                   3   \n",
       "4                 NaN                   3                   3   \n",
       "\n",
       "   Medical_History_35  Medical_History_36  Medical_History_37  \\\n",
       "0                   1                   2                   2   \n",
       "1                   1                   2                   2   \n",
       "2                   1                   3                   2   \n",
       "3                   1                   2                   2   \n",
       "4                   1                   3                   2   \n",
       "\n",
       "   Medical_History_38  Medical_History_39  Medical_History_40  \\\n",
       "0                   1                   3                   3   \n",
       "1                   1                   3                   3   \n",
       "2                   1                   3                   3   \n",
       "3                   1                   3                   3   \n",
       "4                   1                   3                   3   \n",
       "\n",
       "   Medical_History_41  \n",
       "0                   3  \n",
       "1                   1  \n",
       "2                   1  \n",
       "3                   1  \n",
       "4                   1  \n",
       "\n",
       "[5 rows x 41 columns]"
      ]
     },
     "execution_count": 32,
     "metadata": {},
     "output_type": "execute_result"
    }
   ],
   "source": [
    "#A look at medical history\n",
    "df.filter(regex='Medical_History').head()"
   ]
  },
  {
   "cell_type": "code",
   "execution_count": 33,
   "metadata": {},
   "outputs": [
    {
     "data": {
      "text/html": [
       "<div>\n",
       "<table border=\"1\" class=\"dataframe\">\n",
       "  <thead>\n",
       "    <tr style=\"text-align: right;\">\n",
       "      <th></th>\n",
       "      <th>Medical_Keyword_1</th>\n",
       "      <th>Medical_Keyword_2</th>\n",
       "      <th>Medical_Keyword_3</th>\n",
       "      <th>Medical_Keyword_4</th>\n",
       "      <th>Medical_Keyword_5</th>\n",
       "      <th>Medical_Keyword_6</th>\n",
       "      <th>Medical_Keyword_7</th>\n",
       "      <th>Medical_Keyword_8</th>\n",
       "      <th>Medical_Keyword_9</th>\n",
       "      <th>Medical_Keyword_10</th>\n",
       "      <th>...</th>\n",
       "      <th>Medical_Keyword_39</th>\n",
       "      <th>Medical_Keyword_40</th>\n",
       "      <th>Medical_Keyword_41</th>\n",
       "      <th>Medical_Keyword_42</th>\n",
       "      <th>Medical_Keyword_43</th>\n",
       "      <th>Medical_Keyword_44</th>\n",
       "      <th>Medical_Keyword_45</th>\n",
       "      <th>Medical_Keyword_46</th>\n",
       "      <th>Medical_Keyword_47</th>\n",
       "      <th>Medical_Keyword_48</th>\n",
       "    </tr>\n",
       "  </thead>\n",
       "  <tbody>\n",
       "    <tr>\n",
       "      <th>0</th>\n",
       "      <td>0</td>\n",
       "      <td>0</td>\n",
       "      <td>0</td>\n",
       "      <td>0</td>\n",
       "      <td>0</td>\n",
       "      <td>0</td>\n",
       "      <td>0</td>\n",
       "      <td>0</td>\n",
       "      <td>0</td>\n",
       "      <td>0</td>\n",
       "      <td>...</td>\n",
       "      <td>0</td>\n",
       "      <td>0</td>\n",
       "      <td>0</td>\n",
       "      <td>0</td>\n",
       "      <td>0</td>\n",
       "      <td>0</td>\n",
       "      <td>0</td>\n",
       "      <td>0</td>\n",
       "      <td>0</td>\n",
       "      <td>0</td>\n",
       "    </tr>\n",
       "    <tr>\n",
       "      <th>1</th>\n",
       "      <td>0</td>\n",
       "      <td>0</td>\n",
       "      <td>0</td>\n",
       "      <td>0</td>\n",
       "      <td>0</td>\n",
       "      <td>0</td>\n",
       "      <td>0</td>\n",
       "      <td>0</td>\n",
       "      <td>0</td>\n",
       "      <td>0</td>\n",
       "      <td>...</td>\n",
       "      <td>0</td>\n",
       "      <td>0</td>\n",
       "      <td>0</td>\n",
       "      <td>0</td>\n",
       "      <td>0</td>\n",
       "      <td>0</td>\n",
       "      <td>0</td>\n",
       "      <td>0</td>\n",
       "      <td>0</td>\n",
       "      <td>0</td>\n",
       "    </tr>\n",
       "    <tr>\n",
       "      <th>2</th>\n",
       "      <td>0</td>\n",
       "      <td>0</td>\n",
       "      <td>0</td>\n",
       "      <td>0</td>\n",
       "      <td>0</td>\n",
       "      <td>0</td>\n",
       "      <td>0</td>\n",
       "      <td>0</td>\n",
       "      <td>0</td>\n",
       "      <td>0</td>\n",
       "      <td>...</td>\n",
       "      <td>0</td>\n",
       "      <td>0</td>\n",
       "      <td>0</td>\n",
       "      <td>0</td>\n",
       "      <td>0</td>\n",
       "      <td>0</td>\n",
       "      <td>0</td>\n",
       "      <td>0</td>\n",
       "      <td>0</td>\n",
       "      <td>0</td>\n",
       "    </tr>\n",
       "    <tr>\n",
       "      <th>3</th>\n",
       "      <td>0</td>\n",
       "      <td>0</td>\n",
       "      <td>0</td>\n",
       "      <td>0</td>\n",
       "      <td>0</td>\n",
       "      <td>0</td>\n",
       "      <td>0</td>\n",
       "      <td>0</td>\n",
       "      <td>0</td>\n",
       "      <td>0</td>\n",
       "      <td>...</td>\n",
       "      <td>0</td>\n",
       "      <td>0</td>\n",
       "      <td>0</td>\n",
       "      <td>0</td>\n",
       "      <td>0</td>\n",
       "      <td>0</td>\n",
       "      <td>0</td>\n",
       "      <td>0</td>\n",
       "      <td>0</td>\n",
       "      <td>0</td>\n",
       "    </tr>\n",
       "    <tr>\n",
       "      <th>4</th>\n",
       "      <td>0</td>\n",
       "      <td>0</td>\n",
       "      <td>0</td>\n",
       "      <td>0</td>\n",
       "      <td>0</td>\n",
       "      <td>0</td>\n",
       "      <td>0</td>\n",
       "      <td>0</td>\n",
       "      <td>0</td>\n",
       "      <td>0</td>\n",
       "      <td>...</td>\n",
       "      <td>0</td>\n",
       "      <td>0</td>\n",
       "      <td>0</td>\n",
       "      <td>0</td>\n",
       "      <td>0</td>\n",
       "      <td>0</td>\n",
       "      <td>0</td>\n",
       "      <td>0</td>\n",
       "      <td>0</td>\n",
       "      <td>0</td>\n",
       "    </tr>\n",
       "  </tbody>\n",
       "</table>\n",
       "<p>5 rows × 48 columns</p>\n",
       "</div>"
      ],
      "text/plain": [
       "   Medical_Keyword_1  Medical_Keyword_2  Medical_Keyword_3  Medical_Keyword_4  \\\n",
       "0                  0                  0                  0                  0   \n",
       "1                  0                  0                  0                  0   \n",
       "2                  0                  0                  0                  0   \n",
       "3                  0                  0                  0                  0   \n",
       "4                  0                  0                  0                  0   \n",
       "\n",
       "   Medical_Keyword_5  Medical_Keyword_6  Medical_Keyword_7  Medical_Keyword_8  \\\n",
       "0                  0                  0                  0                  0   \n",
       "1                  0                  0                  0                  0   \n",
       "2                  0                  0                  0                  0   \n",
       "3                  0                  0                  0                  0   \n",
       "4                  0                  0                  0                  0   \n",
       "\n",
       "   Medical_Keyword_9  Medical_Keyword_10         ...          \\\n",
       "0                  0                   0         ...           \n",
       "1                  0                   0         ...           \n",
       "2                  0                   0         ...           \n",
       "3                  0                   0         ...           \n",
       "4                  0                   0         ...           \n",
       "\n",
       "   Medical_Keyword_39  Medical_Keyword_40  Medical_Keyword_41  \\\n",
       "0                   0                   0                   0   \n",
       "1                   0                   0                   0   \n",
       "2                   0                   0                   0   \n",
       "3                   0                   0                   0   \n",
       "4                   0                   0                   0   \n",
       "\n",
       "   Medical_Keyword_42  Medical_Keyword_43  Medical_Keyword_44  \\\n",
       "0                   0                   0                   0   \n",
       "1                   0                   0                   0   \n",
       "2                   0                   0                   0   \n",
       "3                   0                   0                   0   \n",
       "4                   0                   0                   0   \n",
       "\n",
       "   Medical_Keyword_45  Medical_Keyword_46  Medical_Keyword_47  \\\n",
       "0                   0                   0                   0   \n",
       "1                   0                   0                   0   \n",
       "2                   0                   0                   0   \n",
       "3                   0                   0                   0   \n",
       "4                   0                   0                   0   \n",
       "\n",
       "   Medical_Keyword_48  \n",
       "0                   0  \n",
       "1                   0  \n",
       "2                   0  \n",
       "3                   0  \n",
       "4                   0  \n",
       "\n",
       "[5 rows x 48 columns]"
      ]
     },
     "execution_count": 33,
     "metadata": {},
     "output_type": "execute_result"
    }
   ],
   "source": [
    "#A look at medical keywords\n",
    "df.filter(regex='Medical_Key').head()"
   ]
  },
  {
   "cell_type": "markdown",
   "metadata": {},
   "source": [
    "As per the data dictionary these are all dichotomous variables. One feature that could be engineered is to sum the keywords to give an overall picture of health. It will certainly help in visualizing this mass of information. We would expect higher values of medical keywords in higher risk classes. This assumes that these variables indiate an impairment and not a positive health aspect "
   ]
  },
  {
   "cell_type": "code",
   "execution_count": 34,
   "metadata": {
    "collapsed": true
   },
   "outputs": [],
   "source": [
    "df['health_sum'] = df.filter(regex='Medical_Key').sum(axis=1)"
   ]
  },
  {
   "cell_type": "code",
   "execution_count": 35,
   "metadata": {},
   "outputs": [
    {
     "data": {
      "text/plain": [
       "<matplotlib.text.Text at 0x81b9df588>"
      ]
     },
     "execution_count": 35,
     "metadata": {},
     "output_type": "execute_result"
    },
    {
     "data": {
      "image/png": "[encoded data removed]",
      "text/plain": [
       "<matplotlib.figure.Figure at 0x81b321470>"
      ]
     },
     "metadata": {},
     "output_type": "display_data"
    }
   ],
   "source": [
    "sns.countplot(df['health_sum'], color='purple', label = 'weight')\n",
    "plt.xlabel(\"Sum of Health Dummies\")\n",
    "plt.ylabel(\"Frequency Count\")"
   ]
  },
  {
   "cell_type": "code",
   "execution_count": 40,
   "metadata": {},
   "outputs": [
    {
     "data": {
      "text/plain": [
       "<matplotlib.text.Text at 0x82618ad30>"
      ]
     },
     "execution_count": 40,
     "metadata": {},
     "output_type": "execute_result"
    },
    {
     "data": {
      "image/png": "[encoded data removed]",
      "text/plain": [
       "<matplotlib.figure.Figure at 0x82908dbe0>"
      ]
     },
     "metadata": {},
     "output_type": "display_data"
    }
   ],
   "source": [
    "ageFacet = sns.FacetGrid(df, col=\"Response\", col_wrap=4)\n",
    "ageFacet.map(sns.countplot, 'health_sum', color='purple')\n",
    "plt.suptitle(\"Count of Health Dummies by Response\", size = 15, y=1.03)"
   ]
  },
  {
   "cell_type": "markdown",
   "metadata": {},
   "source": [
    "If we think that a greater helth score means an unhealthier person, then responses 6, 7 and 8 seem to have a greater proportion of healthier people (more zeros). Response 1 and 2 have a greater proportion of slightly less healthier people. Its possible that this health indicator will be predictive. "
   ]
  },
  {
   "cell_type": "markdown",
   "metadata": {
    "collapsed": true
   },
   "source": [
    "---"
   ]
  },
  {
   "cell_type": "markdown",
   "metadata": {},
   "source": [
    "## Missing Values"
   ]
  },
  {
   "cell_type": "markdown",
   "metadata": {},
   "source": [
    "First I display the number of missing observations for observations that have any missing values."
   ]
  },
  {
   "cell_type": "code",
   "execution_count": 37,
   "metadata": {},
   "outputs": [
    {
     "name": "stdout",
     "output_type": "stream",
     "text": [
      "Empty DataFrame\n",
      "Columns: [numNulls]\n",
      "Index: []\n",
      "                   numNulls\n",
      "Employment_Info_1        19\n",
      "Employment_Info_4      6779\n",
      "Employment_Info_6     10854\n",
      "Empty DataFrame\n",
      "Columns: [numNulls]\n",
      "Index: []\n",
      "                     numNulls\n",
      "Insurance_History_5     25396\n",
      "               numNulls\n",
      "Family_Hist_2     28656\n",
      "Family_Hist_3     34241\n",
      "Family_Hist_4     19184\n",
      "Family_Hist_5     41811\n",
      "                    numNulls\n",
      "Medical_History_1       8889\n",
      "Medical_History_10     58824\n",
      "Medical_History_15     44596\n",
      "Medical_History_24     55580\n",
      "Medical_History_32     58274\n",
      "Empty DataFrame\n",
      "Columns: [numNulls]\n",
      "Index: []\n"
     ]
    }
   ],
   "source": [
    "dataGroups = ['Product', 'Employment', 'Insured', 'Insurance', 'Family', 'Medical_History', 'Medical_Key']\n",
    "for group in dataGroups:\n",
    "    nulls = pd.DataFrame(df.filter(regex=group).isnull().sum(), columns=['numNulls'])\n",
    "    print(nulls[nulls['numNulls']!=0])"
   ]
  },
  {
   "cell_type": "markdown",
   "metadata": {
    "collapsed": true
   },
   "source": [
    "For the vast majority of columns there are no missing data. There are missing values for some employment, family and medical history. However, null values do not need to be excluded for gradient boosting machines. No action needs to be taken for these missing values. "
   ]
  }
 ],
 "metadata": {
  "kernelspec": {
   "display_name": "Python 3",
   "language": "python",
   "name": "python3"
  },
  "language_info": {
   "codemirror_mode": {
    "name": "ipython",
    "version": 3
   },
   "file_extension": ".py",
   "mimetype": "text/x-python",
   "name": "python",
   "nbconvert_exporter": "python",
   "pygments_lexer": "ipython3",
   "version": "3.5.3"
  }
 },
 "nbformat": 4,
 "nbformat_minor": 2
}
